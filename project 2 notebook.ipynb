{
 "cells": [
  {
   "cell_type": "code",
   "execution_count": 3,
   "metadata": {},
   "outputs": [
    {
     "ename": "NameError",
     "evalue": "name 'cnx' is not defined",
     "output_type": "error",
     "traceback": [
      "\u001b[1;31m---------------------------------------------------------------------------\u001b[0m",
      "\u001b[1;31mNameError\u001b[0m                                 Traceback (most recent call last)",
      "\u001b[1;32m<ipython-input-3-7600de24b482>\u001b[0m in \u001b[0;36m<module>\u001b[1;34m()\u001b[0m\n\u001b[0;32m     66\u001b[0m \u001b[1;31m#SELECT * FROM Batting;'''\u001b[0m\u001b[1;33m\u001b[0m\u001b[1;33m\u001b[0m\u001b[0m\n\u001b[0;32m     67\u001b[0m \u001b[1;33m\u001b[0m\u001b[0m\n\u001b[1;32m---> 68\u001b[1;33m \u001b[1;32mfor\u001b[0m \u001b[0mresult\u001b[0m \u001b[1;32min\u001b[0m \u001b[0mcnx\u001b[0m\u001b[1;33m.\u001b[0m\u001b[0mcmd_query_iter\u001b[0m\u001b[1;33m(\u001b[0m\u001b[0mquery1\u001b[0m\u001b[1;33m)\u001b[0m\u001b[1;33m:\u001b[0m\u001b[1;33m\u001b[0m\u001b[0m\n\u001b[0m\u001b[0;32m     69\u001b[0m     \u001b[1;32mif\u001b[0m \u001b[1;34m'columns'\u001b[0m \u001b[1;32min\u001b[0m \u001b[0mresult\u001b[0m\u001b[1;33m:\u001b[0m\u001b[1;33m\u001b[0m\u001b[0m\n\u001b[0;32m     70\u001b[0m         \u001b[0mcolumns\u001b[0m \u001b[1;33m=\u001b[0m \u001b[0mresult\u001b[0m\u001b[1;33m[\u001b[0m\u001b[1;34m'columns'\u001b[0m\u001b[1;33m]\u001b[0m\u001b[1;33m\u001b[0m\u001b[0m\n",
      "\u001b[1;31mNameError\u001b[0m: name 'cnx' is not defined"
     ]
    }
   ],
   "source": [
    "import pandas as pd\n",
    "import sqlalchemy as sa\n",
    "import json\n",
    "\n",
    "def getCreds(filename,subset,defaults={}):\n",
    "    '''\n",
    "    This function helps us connect to a database on hadoop2.  The\n",
    "    userid password information is stored in a local file encoded\n",
    "    in json format.  \n",
    "    Inputs:\n",
    "        filename is where json encoded userid/password information stored\n",
    "        subset : dictionary key in json file\n",
    "        defaults : alternative way to connect to database\n",
    "    Returns subdictionary based on subset parameter.\n",
    "    '''\n",
    "    try:\n",
    "        with open(filename,'r') as file:\n",
    "            D = json.load(file)\n",
    "            file.close()\n",
    "            if D[subset]:\n",
    "                return D[subset]\n",
    "            else:\n",
    "                return defaults\n",
    "    except:\n",
    "        return defaults\n",
    "     \n",
    "def db_setup(database):\n",
    "    template = 'mysql+mysqlconnector://{}:{}@hadoop2.mathsci.denison.edu/{}'\n",
    "    cstring = template.format(creds['user'],creds['password'],database)\n",
    "    return cstring\n",
    "\n",
    "creds = getCreds('creds.json','mysql',defaults = {'user':'steven_j1', 'password':'steven_j1'})\n",
    "\n",
    "cstring = db_setup(\"EntertainmentAgencyExample\")\n",
    "engine = sa.create_engine(cstring)\n",
    "connection = engine.connect()\n",
    "\n",
    "query1 = '''USE lahman2016;\n",
    "SELECT * FROM Teams;\n",
    "'''\n",
    "\n",
    "query2 = '''SELECT franchID, yearID, H/AB AS BA\n",
    "FROM Teams\n",
    "WHERE franchID = \"CLE\";'''\n",
    "\n",
    "query3 = '''SELECT franchID, yearID, H/AB AS BA\n",
    "FROM Teams\n",
    "WHERE franchID = \"CLE\";'''\n",
    "\n",
    "query4 = '''SELECT teamID, yearID, salary\n",
    "FROM Salaries\n",
    "WHERE teamID = \"CLE\";'''\n",
    "\n",
    "query5 = '''SELECT franchID, yearID, ERA\n",
    "FROM Teams\n",
    "WHERE franchID = \"CLE\";'''\n",
    "\n",
    "query6 = '''SELECT franchID, yearID, W/(W+L) AS WinPct\n",
    "FROM Teams\n",
    "WHERE franchID = \"CLE\";'''\n",
    "\n",
    "query7 = '''SELECT franchID, yearID, FP\n",
    "FROM Teams\n",
    "WHERE franchID = \"CLE\";'''\n",
    "\n",
    "query8 = '''SELECT yearID, teamID, franchID, H/AB AS BA, ERA , W/(W+L) AS Winpct, FP\n",
    "FROM Teams\n",
    "WHERE franchID = \"CLE\";'''\n",
    "\n",
    "#SELECT * FROM Batting;'''\n",
    "\n",
    "resultProxy = connection.execute(query1)\n",
    "rows = resultProxy.fetchall()\n",
    "df = pd.DataFrame(rows,columns=resultProxy.keys())\n",
    "print(df)"
   ]
  },
  {
   "cell_type": "code",
   "execution_count": null,
   "metadata": {},
   "outputs": [],
   "source": []
  }
 ],
 "metadata": {
  "kernelspec": {
   "display_name": "Python 3",
   "language": "python",
   "name": "python3"
  },
  "language_info": {
   "codemirror_mode": {
    "name": "ipython",
    "version": 3
   },
   "file_extension": ".py",
   "mimetype": "text/x-python",
   "name": "python",
   "nbconvert_exporter": "python",
   "pygments_lexer": "ipython3",
   "version": "3.6.5"
  }
 },
 "nbformat": 4,
 "nbformat_minor": 2
}
